{
 "cells": [
  {
   "cell_type": "code",
   "execution_count": 5,
   "metadata": {},
   "outputs": [],
   "source": [
    "import pandas as pd\n"
   ]
  },
  {
   "cell_type": "code",
   "execution_count": 6,
   "metadata": {},
   "outputs": [
    {
     "name": "stdout",
     "output_type": "stream",
     "text": [
      "Removed 3798 entries\n"
     ]
    }
   ],
   "source": [
    "df = pd.read_csv(\"Files/tokens.csv\")\n",
    "df = df[df['language'] == 'English']\n",
    "initial_length = len(df)\n",
    "df = df.drop_duplicates([\"name\", \"relatedCards\", \"power\", \"toughness\", \"subtypes\", \"keywords\"])\n",
    "print(f\"Removed {initial_length - len(df)} entries\")"
   ]
  },
  {
   "cell_type": "code",
   "execution_count": 7,
   "metadata": {},
   "outputs": [],
   "source": [
    "columns_to_keep = [\"name\", \"setCode\", \"number\", \"power\", \"toughness\", \"manaCost\", \"text\", \"type\", \"layout\", \"uuid\", \"otherFaceIds\", \"relatedCards\"]\n",
    "df = df[columns_to_keep]"
   ]
  },
  {
   "cell_type": "code",
   "execution_count": 8,
   "metadata": {},
   "outputs": [],
   "source": [
    "df.to_csv(\"ParsedCSV/tokens.csv\", index = False)"
   ]
  }
 ],
 "metadata": {
  "kernelspec": {
   "display_name": "Python 3",
   "language": "python",
   "name": "python3"
  },
  "language_info": {
   "codemirror_mode": {
    "name": "ipython",
    "version": 3
   },
   "file_extension": ".py",
   "mimetype": "text/x-python",
   "name": "python",
   "nbconvert_exporter": "python",
   "pygments_lexer": "ipython3",
   "version": "3.8.10"
  }
 },
 "nbformat": 4,
 "nbformat_minor": 2
}
