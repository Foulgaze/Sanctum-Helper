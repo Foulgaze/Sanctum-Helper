{
 "cells": [
  {
   "cell_type": "code",
   "execution_count": 75,
   "metadata": {},
   "outputs": [],
   "source": [
    "import pandas as pd\n"
   ]
  },
  {
   "cell_type": "code",
   "execution_count": 76,
   "metadata": {},
   "outputs": [
    {
     "name": "stderr",
     "output_type": "stream",
     "text": [
      "/tmp/ipykernel_181557/4073356801.py:1: DtypeWarning: Columns (3,7,12,16,20,23,25,26,30,31,32,33,35,39,40,41,47,52,53,61,62,66,68) have mixed types. Specify dtype option on import or set low_memory=False.\n",
      "  df = pd.read_csv(\"Files/cards.csv\")\n"
     ]
    }
   ],
   "source": [
    "df = pd.read_csv(\"Files/cards.csv\")\n",
    "df = df[df['language'] == 'English']\n",
    "unique_names = df['name'].unique()"
   ]
  },
  {
   "cell_type": "code",
   "execution_count": 77,
   "metadata": {},
   "outputs": [],
   "source": [
    "df['frameVersion'] = df['frameVersion'].replace('future', 2007)\n",
    "df['frameVersion'] = df['frameVersion'].replace('1993', 1993)\n",
    "df['frameVersion'] = df['frameVersion'].replace('2015', 2015)\n",
    "df['frameVersion'] = df['frameVersion'].replace('2003', 2003)\n",
    "df['frameVersion'] = df['frameVersion'].replace('1997', 1997)\n",
    "df = df.sort_values(by='frameVersion', ascending=False)"
   ]
  },
  {
   "cell_type": "code",
   "execution_count": 78,
   "metadata": {},
   "outputs": [
    {
     "name": "stdout",
     "output_type": "stream",
     "text": [
      "Removed 4840 entries\n"
     ]
    }
   ],
   "source": [
    "intialLength = len(df)\n",
    "df = df[df['isAlternative'] != True]\n",
    "print(f\"Removed {intialLength - len(df)} entries\")"
   ]
  },
  {
   "cell_type": "code",
   "execution_count": 79,
   "metadata": {},
   "outputs": [
    {
     "name": "stdout",
     "output_type": "stream",
     "text": [
      "Removed 6261 entries\n",
      "Removed 7588 entries\n",
      "Removed 8644 entries\n"
     ]
    }
   ],
   "source": [
    "initialLength = len(df)\n",
    "full_art_entries = df[df['isFullArt'] == True]\n",
    "\n",
    "# Step 2: Check for non-full art counterparts and remove full art entries if counterparts exist\n",
    "names_to_remove = full_art_entries['name'][full_art_entries['name'].isin(df[df['isFullArt'].isna()]['name'])]\n",
    "\n",
    "# Remove the full art entries\n",
    "df = df[~((df['isFullArt'] == True) & (df['name'].isin(names_to_remove)))]\n",
    "print(f\"Removed {intialLength - len(df)} entries\")\n",
    "\n",
    "initialLength = len(df)\n",
    "df = df[~((df['setCode'] == \"PLIST\"))]\n",
    "print(f\"Removed {intialLength - len(df)} entries\")\n",
    "\n",
    "badUUIDs = set([uuid.strip() for uuid in open(\"URLChecker/badUUIDs.txt\", \"r\")])\n",
    "initialLength = len(df)\n",
    "df = df[~df['uuid'].isin(badUUIDs)]\n",
    "print(f\"Removed {intialLength - len(df)} entries\")"
   ]
  },
  {
   "cell_type": "code",
   "execution_count": 80,
   "metadata": {},
   "outputs": [],
   "source": [
    "uuid_length = len(\"45272fb2-2ad7-5057-ae0a-8af19aca0bca\")\n",
    "def clean_meld_cards(df):\n",
    "    def process_row(row):\n",
    "        if type(row['otherFaceIds']) == str and len(row['otherFaceIds']) > uuid_length:\n",
    "            row['otherFaceIds'] = \"\"\n",
    "        return row\n",
    "\n",
    "    return df.apply(process_row, axis=1)"
   ]
  },
  {
   "cell_type": "code",
   "execution_count": 81,
   "metadata": {},
   "outputs": [
    {
     "name": "stdout",
     "output_type": "stream",
     "text": [
      "['']\n"
     ]
    }
   ],
   "source": [
    "df.loc[df['faceName'].notna(), 'name'] = df['faceName']\n",
    "df = df.drop_duplicates(\"name\")\n",
    "df = clean_meld_cards(df)\n",
    "name_to_find = \"Brisela, Voice of Nightmares\"\n",
    "entry = df.loc[df['name'] == name_to_find]\n",
    "\n",
    "print(entry[\"otherFaceIds\"].values)"
   ]
  },
  {
   "cell_type": "code",
   "execution_count": 82,
   "metadata": {},
   "outputs": [],
   "source": [
    "columns_to_keep = [\"name\", \"setCode\", \"number\", \"power\", \"toughness\", \"manaCost\", \"text\", \"type\", \"layout\", \"uuid\", \"otherFaceIds\"]\n",
    "df = df[columns_to_keep]"
   ]
  },
  {
   "cell_type": "code",
   "execution_count": 83,
   "metadata": {},
   "outputs": [],
   "source": [
    "df.to_csv(\"cards.csv\", index = False)"
   ]
  },
  {
   "cell_type": "code",
   "execution_count": 84,
   "metadata": {},
   "outputs": [
    {
     "name": "stderr",
     "output_type": "stream",
     "text": [
      "/tmp/ipykernel_181557/1324849476.py:1: DtypeWarning: Columns (3,7,12,16,20,23,25,26,30,31,32,33,35,39,40,41,47,52,53,61,62,66,68) have mixed types. Specify dtype option on import or set low_memory=False.\n",
      "  df2 = pd.read_csv(\"Files/cards.csv\")\n"
     ]
    },
    {
     "name": "stdout",
     "output_type": "stream",
     "text": [
      "28105\n",
      "28527\n",
      "['Velican Dragon', 'Goblin Bruiser', \"Ashuza's Breath\", \"Hapato's Might\", 'Camato Scout', 'Blinding Radiance', 'Lydari Druid', 'Lydari Elephant', 'Titanic Pelagosaur', 'Murgish Cemetery', \"Saji's Torrent\", 'Tornellan Protector', 'Ogre Painbringer']\n"
     ]
    }
   ],
   "source": [
    "df2 = pd.read_csv(\"Files/cards.csv\")\n",
    "df2_names = set(df2['name'].unique())\n",
    "df_names = set(df['name'].unique())\n",
    "print(len(df2_names))\n",
    "print(len(df_names))\n",
    "diff = df2_names - df2_names.intersection(df_names)\n",
    "diff = [x for x in diff if \"//\" not in x]\n",
    "diff = [x for x in diff if not x.startswith(\"A-\")]\n",
    "print(diff)"
   ]
  }
 ],
 "metadata": {
  "kernelspec": {
   "display_name": "Python 3",
   "language": "python",
   "name": "python3"
  },
  "language_info": {
   "codemirror_mode": {
    "name": "ipython",
    "version": 3
   },
   "file_extension": ".py",
   "mimetype": "text/x-python",
   "name": "python",
   "nbconvert_exporter": "python",
   "pygments_lexer": "ipython3",
   "version": "3.8.10"
  }
 },
 "nbformat": 4,
 "nbformat_minor": 2
}
