{
 "cells": [
  {
   "cell_type": "code",
   "execution_count": 209,
   "metadata": {},
   "outputs": [],
   "source": [
    "import pandas as pd\n"
   ]
  },
  {
   "cell_type": "code",
   "execution_count": 210,
   "metadata": {},
   "outputs": [
    {
     "name": "stderr",
     "output_type": "stream",
     "text": [
      "/tmp/ipykernel_2146/1979999353.py:1: DtypeWarning: Columns (3,7,12,16,20,23,25,26,30,31,32,33,35,39,40,41,47,52,53,61,62,66,68) have mixed types. Specify dtype option on import or set low_memory=False.\n",
      "  df = pd.read_csv(\"Files/cards.csv\")\n"
     ]
    }
   ],
   "source": [
    "df = pd.read_csv(\"Files/cards.csv\")\n",
    "df = df[df['language'] == 'English']\n",
    "unique_names = df['name'].unique()\n",
    "# columns_to_keep = [\"name\", \"faceName\", \"setCode\", \"number\", \"power\", \"toughness\", \"manaCost\", \"text\", \"type\", \"layout\", \"uuid\"]\n",
    "# df = df[columns_to_keep]\n"
   ]
  },
  {
   "cell_type": "code",
   "execution_count": 211,
   "metadata": {},
   "outputs": [],
   "source": [
    "df['frameVersion'] = df['frameVersion'].replace('future', 2007)\n",
    "df['frameVersion'] = df['frameVersion'].replace('1993', 1993)\n",
    "df['frameVersion'] = df['frameVersion'].replace('2015', 2015)\n",
    "df['frameVersion'] = df['frameVersion'].replace('2003', 2003)\n",
    "df['frameVersion'] = df['frameVersion'].replace('1997', 1997)\n",
    "df = df.sort_values(by='frameVersion', ascending=False)"
   ]
  },
  {
   "cell_type": "code",
   "execution_count": 212,
   "metadata": {},
   "outputs": [
    {
     "name": "stdout",
     "output_type": "stream",
     "text": [
      "Removed 4840 entries\n"
     ]
    }
   ],
   "source": [
    "intialLength = len(df)\n",
    "df = df[df['isAlternative'] != True]\n",
    "print(f\"Removed {intialLength - len(df)} entries\")"
   ]
  },
  {
   "cell_type": "code",
   "execution_count": 213,
   "metadata": {},
   "outputs": [
    {
     "name": "stdout",
     "output_type": "stream",
     "text": [
      "Removed 6261 entries\n"
     ]
    }
   ],
   "source": [
    "initialLength = len(df)\n",
    "full_art_entries = df[df['isFullArt'] == True]\n",
    "\n",
    "# Step 2: Check for non-full art counterparts and remove full art entries if counterparts exist\n",
    "names_to_remove = full_art_entries['name'][full_art_entries['name'].isin(df[df['isFullArt'].isna()]['name'])]\n",
    "\n",
    "# Remove the full art entries\n",
    "df = df[~((df['isFullArt'] == True) & (df['name'].isin(names_to_remove)))]\n",
    "print(f\"Removed {intialLength - len(df)} entries\")"
   ]
  },
  {
   "cell_type": "code",
   "execution_count": 214,
   "metadata": {},
   "outputs": [],
   "source": [
    "df.loc[df['faceName'].notna(), 'name'] = df['faceName']\n",
    "df = df.drop_duplicates(\"name\")\n"
   ]
  },
  {
   "cell_type": "code",
   "execution_count": 215,
   "metadata": {},
   "outputs": [],
   "source": [
    "columns_to_keep = [\"name\", \"setCode\", \"number\", \"power\", \"toughness\", \"manaCost\", \"text\", \"type\", \"layout\", \"uuid\"]\n",
    "df = df[columns_to_keep]"
   ]
  },
  {
   "cell_type": "code",
   "execution_count": 218,
   "metadata": {},
   "outputs": [],
   "source": [
    "df.to_csv(\"cards.csv\", index = False)"
   ]
  },
  {
   "cell_type": "code",
   "execution_count": 216,
   "metadata": {},
   "outputs": [
    {
     "name": "stderr",
     "output_type": "stream",
     "text": [
      "/tmp/ipykernel_2146/1324849476.py:1: DtypeWarning: Columns (3,7,12,16,20,23,25,26,30,31,32,33,35,39,40,41,47,52,53,61,62,66,68) have mixed types. Specify dtype option on import or set low_memory=False.\n",
      "  df2 = pd.read_csv(\"Files/cards.csv\")\n"
     ]
    },
    {
     "name": "stdout",
     "output_type": "stream",
     "text": [
      "28105\n",
      "28531\n",
      "['Camato Scout', \"Saji's Torrent\", 'Lydari Druid', 'Velican Dragon', 'Lydari Elephant', \"Hapato's Might\", 'Tornellan Protector', 'Murgish Cemetery', \"Ashuza's Breath\"]\n"
     ]
    }
   ],
   "source": [
    "df2 = pd.read_csv(\"Files/cards.csv\")\n",
    "df2_names = set(df2['name'].unique())\n",
    "df_names = set(df['name'].unique())\n",
    "print(len(df2_names))\n",
    "print(len(df_names))\n",
    "diff = df2_names - df2_names.intersection(df_names)\n",
    "diff = [x for x in diff if \"//\" not in x]\n",
    "diff = [x for x in diff if not x.startswith(\"A-\")]\n",
    "print(diff)"
   ]
  }
 ],
 "metadata": {
  "kernelspec": {
   "display_name": "Python 3",
   "language": "python",
   "name": "python3"
  },
  "language_info": {
   "codemirror_mode": {
    "name": "ipython",
    "version": 3
   },
   "file_extension": ".py",
   "mimetype": "text/x-python",
   "name": "python",
   "nbconvert_exporter": "python",
   "pygments_lexer": "ipython3",
   "version": "3.10.12"
  }
 },
 "nbformat": 4,
 "nbformat_minor": 2
}
